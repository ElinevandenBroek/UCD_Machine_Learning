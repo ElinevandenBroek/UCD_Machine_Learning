{
 "cells": [
  {
   "cell_type": "code",
   "execution_count": null,
   "metadata": {
    "collapsed": true
   },
   "outputs": [],
   "source": [
    "import numpy as np\n",
    "import pandas as pd \n",
    "from statsmodels.formula.api import ols as lm\n",
    "import matplotlib.pyplot as plt\n",
    "%matplotlib inline"
   ]
  },
  {
   "cell_type": "code",
   "execution_count": null,
   "metadata": {
    "collapsed": false
   },
   "outputs": [],
   "source": [
    "teen_gamb = pd.read_csv('/Users/evancolvin/Downloads/teengamb.csv')\n",
    "teen_gamb = teen_gamb.drop('Unnamed: 0', 1) \n",
    "print teen_gamb.head(10)\n",
    "print \"\\n\\n\\n\"\n",
    "print teen_gamb.describe()"
   ]
  },
  {
   "cell_type": "code",
   "execution_count": null,
   "metadata": {
    "collapsed": false
   },
   "outputs": [],
   "source": [
    "print teen_gamb.describe()\n",
    "plt.hist(teen_gamb.verbal, color = 'white', hatch = '\\\\')\n",
    "plt.title(\"Verbal Score\")\n",
    "plt.show()\n",
    "plt.hist(teen_gamb.income, color = 'white', hatch = '\\\\')\n",
    "plt.title(\"Income\")\n",
    "plt.show()"
   ]
  },
  {
   "cell_type": "code",
   "execution_count": null,
   "metadata": {
    "collapsed": false
   },
   "outputs": [],
   "source": [
    "teen_gamb['c'] = 'pink'\n",
    "for i in range(len(teen_gamb['c'])):\n",
    "    if teen_gamb['sex'][i] == 0:\n",
    "        teen_gamb['c'][i] = 'blue'\n",
    "        \n",
    "ax = teen_gamb.plot(kind = 'scatter', x = 'gamble', y = 'income',\n",
    "                                        c = teen_gamb['c'])"
   ]
  },
  {
   "cell_type": "code",
   "execution_count": null,
   "metadata": {
    "collapsed": false
   },
   "outputs": [],
   "source": [
    "plt.scatter(teen_gamb.gamble, teen_gamb.status)\n",
    "plt.xlabel('Gamble')\n",
    "plt.ylabel('SocioEconomic Status')\n",
    "plt.show()\n",
    "\n",
    "plt.scatter(teen_gamb.gamble, teen_gamb.income)\n",
    "plt.xlabel('Gamble')\n",
    "plt.ylabel('Weekly Income')"
   ]
  },
  {
   "cell_type": "code",
   "execution_count": null,
   "metadata": {
    "collapsed": false
   },
   "outputs": [],
   "source": [
    "lmod = lm(formula = \"gamble ~ sex + status + income + verbal\", data = teen_gamb).fit()\n",
    "print lmod.params\n",
    "print \"\\n\\n\\n\"\n",
    "print lmod.summary()"
   ]
  },
  {
   "cell_type": "code",
   "execution_count": null,
   "metadata": {
    "collapsed": false
   },
   "outputs": [],
   "source": [
    "dir(lmod)"
   ]
  },
  {
   "cell_type": "code",
   "execution_count": null,
   "metadata": {
    "collapsed": false
   },
   "outputs": [],
   "source": [
    "plt.scatter(range(len(teen_gamb)), lmod.resid)\n",
    "print \"The mean of the residuals is {} which is what we want\".format(lmod.resid.mean())"
   ]
  },
  {
   "cell_type": "code",
   "execution_count": null,
   "metadata": {
    "collapsed": false
   },
   "outputs": [],
   "source": [
    "for i in range(len(teen_gamb)):\n",
    "    print round(lmod.fittedvalues[i], 1), teen_gamb.gamble[i]"
   ]
  },
  {
   "cell_type": "code",
   "execution_count": null,
   "metadata": {
    "collapsed": false
   },
   "outputs": [],
   "source": [
    "import itertools\n",
    "prostate = pd.read_csv('~/downloads/prostate.csv')\n",
    "prostate = prostate.drop('Unnamed: 0', 1)\n",
    "\n",
    "print prostate.head()\n"
   ]
  },
  {
   "cell_type": "code",
   "execution_count": null,
   "metadata": {
    "collapsed": true
   },
   "outputs": [],
   "source": [
    "predictors = prostate.columns[:-1].tolist()\n",
    "# Gets all possible combinations of the variables without duplicates\n",
    "# except for the basic model without an intercept\n",
    "combos = []\n",
    "for length in range(1, len(predictors)+1):\n",
    "    for subset in itertools.combinations(predictors, length):\n",
    "        combos.append(subset)\n",
    "# Gets each element of the list into a string that I can put into \n",
    "# the lm function \n",
    "models = []\n",
    "for model in combos:\n",
    "    models.append('lpsa ~ ' + ' + '.join(model))\n",
    "# computes each linear model and attaches that model to its \n",
    "# adjusted r-squared in a new list \n"
   ]
  },
  {
   "cell_type": "code",
   "execution_count": null,
   "metadata": {
    "collapsed": false
   },
   "outputs": [],
   "source": [
    "models_and_fit = [] # clearing memory\n",
    "for i in range(len(models)):\n",
    "    this_mod = lm(formula = models[i], data = prostate).fit()\n",
    "    models_and_fit.append([models[i], this_mod.rsquared_adj])    \n",
    "# pulls out the best model based on the highest adjusted r-squared \n",
    "best_model = sorted(models_and_fit, key = lambda x: x[1])[-1]\n",
    "\n",
    "print \"The Best model is \\n \\t{} \\n with an adjusted R-squared of {}\".format(best_model[0], best_model[1])"
   ]
  },
  {
   "cell_type": "code",
   "execution_count": null,
   "metadata": {
    "collapsed": false
   },
   "outputs": [],
   "source": [
    "models_and_fit = [] # clearing memory\n",
    "for i in range(len(models)):\n",
    "    this_mod = lm(formula = models[i], data = prostate).fit()\n",
    "    models_and_fit.append([models[i], this_mod.aic])    \n",
    "# pulls out the best model based on the highest adjusted r-squared \n",
    "best_model = sorted(models_and_fit, key = lambda x: x[1])[-1]\n",
    "\n",
    "print \"The Best model is \\n \\t{} \\n with an AIC of {}\".format(best_model[0], best_model[1])"
   ]
  },
  {
   "cell_type": "code",
   "execution_count": null,
   "metadata": {
    "collapsed": false
   },
   "outputs": [],
   "source": [
    "models_and_fit = [] # clearing memory\n",
    "for i in range(len(models)):\n",
    "    this_mod = lm(formula = models[i], data = prostate).fit()\n",
    "    models_and_fit.append([models[i], this_mod.bic])    \n",
    "# pulls out the best model based on the highest adjusted r-squared \n",
    "best_model = sorted(models_and_fit, key = lambda x: x[1])[-1]\n",
    "\n",
    "print \"The Best model is \\n \\t {} \\n with a BICof {}\".format(best_model[0], best_model[1])"
   ]
  },
  {
   "cell_type": "code",
   "execution_count": null,
   "metadata": {
    "collapsed": true
   },
   "outputs": [],
   "source": []
  }
 ],
 "metadata": {
  "kernelspec": {
   "display_name": "Python 2",
   "language": "python",
   "name": "python2"
  },
  "language_info": {
   "codemirror_mode": {
    "name": "ipython",
    "version": 2
   },
   "file_extension": ".py",
   "mimetype": "text/x-python",
   "name": "python",
   "nbconvert_exporter": "python",
   "pygments_lexer": "ipython2",
   "version": "2.7.11"
  }
 },
 "nbformat": 4,
 "nbformat_minor": 0
}
